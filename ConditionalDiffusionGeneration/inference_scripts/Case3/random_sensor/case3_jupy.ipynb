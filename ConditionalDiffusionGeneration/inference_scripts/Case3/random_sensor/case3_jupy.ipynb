{
 "cells": [
  {
   "cell_type": "code",
   "execution_count": 26,
   "id": "1b804bbd",
   "metadata": {},
   "outputs": [
    {
     "name": "stdout",
     "output_type": "stream",
     "text": [
      "Running on device: cpu\n",
      "DEBUG: Checking function signature for measurement_cond_fn: ('x_t', 't', 'measurement', 'noisy_measurement', 'x_prev', 'x_0_hat')\n"
     ]
    },
    {
     "data": {
      "application/vnd.jupyter.widget-view+json": {
       "model_id": "ff43bbaf37e64c9fa232c75fdc8cb653",
       "version_major": 2,
       "version_minor": 0
      },
      "text/plain": [
       "  0%|          | 0/1000 [00:00<?, ?it/s]"
      ]
     },
     "metadata": {},
     "output_type": "display_data"
    },
    {
     "ename": "TypeError",
     "evalue": "measurement_cond_fn() missing 1 required positional argument: 't'",
     "output_type": "error",
     "traceback": [
      "\u001b[0;31m---------------------------------------------------------------------------\u001b[0m",
      "\u001b[0;31mTypeError\u001b[0m                                 Traceback (most recent call last)",
      "Cell \u001b[0;32mIn[26], line 92\u001b[0m\n\u001b[1;32m     89\u001b[0m x_start \u001b[38;5;241m=\u001b[39m torch\u001b[38;5;241m.\u001b[39mrandn(no_of_samples, \u001b[38;5;241m1\u001b[39m, time_length, latent_size, device\u001b[38;5;241m=\u001b[39mdevice)  \u001b[38;5;66;03m# Random latent noise\u001b[39;00m\n\u001b[1;32m     91\u001b[0m \u001b[38;5;66;03m# Use fixed unconditional sample function\u001b[39;00m\n\u001b[0;32m---> 92\u001b[0m samples \u001b[38;5;241m=\u001b[39m [sample_fn_unconditional(x_start[i:i\u001b[38;5;241m+\u001b[39m\u001b[38;5;241m1\u001b[39m]) \u001b[38;5;28;01mfor\u001b[39;00m i \u001b[38;5;129;01min\u001b[39;00m \u001b[38;5;28mrange\u001b[39m(x_start\u001b[38;5;241m.\u001b[39mshape[\u001b[38;5;241m0\u001b[39m])]\n\u001b[1;32m     94\u001b[0m gen_latents \u001b[38;5;241m=\u001b[39m torch\u001b[38;5;241m.\u001b[39mcat(samples)\n\u001b[1;32m     95\u001b[0m \u001b[38;5;28mprint\u001b[39m(\u001b[38;5;124mf\u001b[39m\u001b[38;5;124m\"\u001b[39m\u001b[38;5;124mGenerated latents shape: \u001b[39m\u001b[38;5;132;01m{\u001b[39;00mgen_latents\u001b[38;5;241m.\u001b[39mshape\u001b[38;5;132;01m}\u001b[39;00m\u001b[38;5;124m\"\u001b[39m)\n",
      "Cell \u001b[0;32mIn[26], line 75\u001b[0m, in \u001b[0;36msample_fn_unconditional\u001b[0;34m(x_start)\u001b[0m\n\u001b[1;32m     74\u001b[0m \u001b[38;5;28;01mdef\u001b[39;00m \u001b[38;5;21msample_fn_unconditional\u001b[39m(x_start):\n\u001b[0;32m---> 75\u001b[0m     \u001b[38;5;28;01mreturn\u001b[39;00m sampler\u001b[38;5;241m.\u001b[39mp_sample_loop(\n\u001b[1;32m     76\u001b[0m         model\u001b[38;5;241m=\u001b[39mu_net_model,\n\u001b[1;32m     77\u001b[0m         x_start\u001b[38;5;241m=\u001b[39mx_start,\n\u001b[1;32m     78\u001b[0m         measurement\u001b[38;5;241m=\u001b[39mtorch\u001b[38;5;241m.\u001b[39mzeros_like(x_start, device\u001b[38;5;241m=\u001b[39mdevice),  \u001b[38;5;66;03m# Dummy measurement tensor\u001b[39;00m\n\u001b[1;32m     79\u001b[0m         measurement_cond_fn\u001b[38;5;241m=\u001b[39mmeasurement_cond_fn,  \u001b[38;5;66;03m# Updated function with all expected arguments\u001b[39;00m\n\u001b[1;32m     80\u001b[0m         record\u001b[38;5;241m=\u001b[39m\u001b[38;5;28;01mFalse\u001b[39;00m,\n\u001b[1;32m     81\u001b[0m         save_root\u001b[38;5;241m=\u001b[39m\u001b[38;5;28;01mNone\u001b[39;00m\n\u001b[1;32m     82\u001b[0m     )\n",
      "File \u001b[0;32m~/Library/CloudStorage/GoogleDrive-john.chuicandoit@gmail.com/My Drive/CoNFiLD/ConditionalDiffusionGeneration/inference_scripts/Case3/random_sensor/../../../../ConditionalDiffusionGeneration/src/guided_diffusion/gaussian_diffusion.py:193\u001b[0m, in \u001b[0;36mGaussianDiffusion.p_sample_loop\u001b[0;34m(self, model, x_start, measurement, measurement_cond_fn, record, save_root)\u001b[0m\n\u001b[1;32m    190\u001b[0m noisy_measurement \u001b[38;5;241m=\u001b[39m \u001b[38;5;28mself\u001b[39m\u001b[38;5;241m.\u001b[39mq_sample(measurement, t\u001b[38;5;241m=\u001b[39mtime)\n\u001b[1;32m    192\u001b[0m \u001b[38;5;66;03m# TODO: how can we handle argument for different condition method?\u001b[39;00m\n\u001b[0;32m--> 193\u001b[0m img, distance \u001b[38;5;241m=\u001b[39m measurement_cond_fn(x_t\u001b[38;5;241m=\u001b[39mout[\u001b[38;5;124m'\u001b[39m\u001b[38;5;124msample\u001b[39m\u001b[38;5;124m'\u001b[39m],\n\u001b[1;32m    194\u001b[0m                           measurement\u001b[38;5;241m=\u001b[39mmeasurement,\n\u001b[1;32m    195\u001b[0m                           noisy_measurement\u001b[38;5;241m=\u001b[39mnoisy_measurement,\n\u001b[1;32m    196\u001b[0m                           x_prev\u001b[38;5;241m=\u001b[39mimg,\n\u001b[1;32m    197\u001b[0m                           x_0_hat\u001b[38;5;241m=\u001b[39mout[\u001b[38;5;124m'\u001b[39m\u001b[38;5;124mpred_xstart\u001b[39m\u001b[38;5;124m'\u001b[39m])\n\u001b[1;32m    198\u001b[0m img \u001b[38;5;241m=\u001b[39m img\u001b[38;5;241m.\u001b[39mdetach_()\n\u001b[1;32m    199\u001b[0m \u001b[38;5;28;01mif\u001b[39;00m distance \u001b[38;5;129;01mis\u001b[39;00m \u001b[38;5;129;01mnot\u001b[39;00m \u001b[38;5;28;01mNone\u001b[39;00m:\n",
      "\u001b[0;31mTypeError\u001b[0m: measurement_cond_fn() missing 1 required positional argument: 't'"
     ]
    }
   ],
   "source": [
    "import torch\n",
    "import numpy as np\n",
    "from functools import partial\n",
    "import sys\n",
    "from einops import rearrange\n",
    "\n",
    "sys.path.append(\"../../../..\") #four levels up from script's current location (Instead of modifying sys.path dynamically, consider using absolute paths or configuring the PYTHONPATH environment variable.)\n",
    "\n",
    "from ConditionalDiffusionGeneration.src.guided_diffusion.unet import create_model\n",
    "from ConditionalDiffusionGeneration.src.guided_diffusion.condition_methods import get_conditioning_method\n",
    "from ConditionalDiffusionGeneration.src.guided_diffusion.measurements import get_noise, get_operator\n",
    "from ConditionalDiffusionGeneration.src.guided_diffusion.gaussian_diffusion import create_sampler\n",
    "from ConditionalNeuralField.cnf.inference_function import ReconstructFrame, decoder\n",
    "\n",
    "if torch.cuda.is_available():\n",
    "    dev = \"cuda\"\n",
    "else:\n",
    "    dev = \"cpu\"\n",
    "\n",
    "device = torch.device(dev)\n",
    "print(f\"Running on device: {device}\")\n",
    "\n",
    "torch.manual_seed(42)\n",
    "np.random.seed(42)\n",
    "\n",
    "# Conditioning Data Loader\n",
    "#no_of_sensors = 10  # 1, 10, 100, 1000\n",
    "#true_measurement = torch.from_numpy(np.load(f'input_case3/random_sensor/{no_of_sensors}/measures.npy')).to(device)\n",
    "#true_measurement = true_measurement[:, :, :2]  # Keep only u, v\n",
    "#print(f\"Updated true_measurement.shape = {true_measurement.shape}\")  # Should be [384, 10, 2]\n",
    "#print(f\"DEBUG: Original true_measurement.shape = {true_measurement.shape}\")\n",
    "\n",
    "#print(true_measurement[0])  # Print first time step to inspect values\n",
    "\n",
    "# Load trained unconditional model\n",
    "u_net_model = create_model(\n",
    "    image_size=256,\n",
    "    num_channels=128,\n",
    "    num_res_blocks=2,\n",
    "    channel_mult=\"\",\n",
    "    num_heads=4,\n",
    "    num_head_channels=64,\n",
    "    attention_resolutions=\"32,16,8\",\n",
    "    model_path='./input_case3/diff_model/ema_0.9999_340000.pt'\n",
    ")\n",
    "\n",
    "u_net_model.to(device)\n",
    "u_net_model.eval()\n",
    "\n",
    "noiser = get_noise(sigma=0.0, name='gaussian')\n",
    "\n",
    "mask = torch.ones_like(true_measurement, device=device)\n",
    "\n",
    "# Sampler\n",
    "sampler = create_sampler(\n",
    "    sampler='ddpm',\n",
    "    steps=1000,\n",
    "    noise_schedule=\"cosine\",\n",
    "    model_mean_type=\"epsilon\",\n",
    "    model_var_type=\"fixed_large\",\n",
    "    dynamic_threshold=False,\n",
    "    clip_denoised=True,\n",
    "    rescale_timesteps=False,\n",
    "    timestep_respacing=\"\"\n",
    ")\n",
    "\n",
    "def measurement_cond_fn(x_t, t, measurement, noisy_measurement=None, x_prev=None, x_0_hat=None):\n",
    "    \"\"\"Dummy conditioning function for unconditional sampling.\"\"\"\n",
    "    print(f\"DEBUG: measurement_cond_fn called with t={t}\")  # Debugging\n",
    "    return torch.zeros_like(x_t, device=device), None  # Return zero tensor and None for distance\n",
    "\n",
    "print(f\"DEBUG: Checking function signature for measurement_cond_fn: {measurement_cond_fn.__code__.co_varnames}\")\n",
    "\n",
    "def sample_fn_unconditional(x_start):\n",
    "    return sampler.p_sample_loop(\n",
    "        model=u_net_model,\n",
    "        x_start=x_start,\n",
    "        measurement=torch.zeros_like(x_start, device=device),  # Dummy measurement tensor\n",
    "        measurement_cond_fn=measurement_cond_fn,  # Updated function with all expected arguments\n",
    "        record=False,\n",
    "        save_root=None\n",
    "    )\n",
    "\n",
    "# Generate Unconditional Samples\n",
    "no_of_samples = 10  # Number of realizations\n",
    "time_length = 256   # Adjust for 2D periodic hill case\n",
    "latent_size = 256   # Ensure compatibility with 2D setup\n",
    "\n",
    "x_start = torch.randn(no_of_samples, 1, time_length, latent_size, device=device)  # Random latent noise\n",
    "\n",
    "# Use fixed unconditional sample function\n",
    "samples = [sample_fn_unconditional(x_start[i:i+1]) for i in range(x_start.shape[0])]\n",
    "\n",
    "gen_latents = torch.cat(samples)\n",
    "print(f\"Generated latents shape: {gen_latents.shape}\")"
   ]
  },
  {
   "cell_type": "code",
   "execution_count": null,
   "id": "6c307932",
   "metadata": {},
   "outputs": [],
   "source": []
  }
 ],
 "metadata": {
  "kernelspec": {
   "display_name": "Python 3 (ipykernel)",
   "language": "python",
   "name": "python3"
  },
  "language_info": {
   "codemirror_mode": {
    "name": "ipython",
    "version": 3
   },
   "file_extension": ".py",
   "mimetype": "text/x-python",
   "name": "python",
   "nbconvert_exporter": "python",
   "pygments_lexer": "ipython3",
   "version": "3.12.7"
  },
  "toc": {
   "base_numbering": 1,
   "nav_menu": {},
   "number_sections": true,
   "sideBar": true,
   "skip_h1_title": false,
   "title_cell": "Table of Contents",
   "title_sidebar": "Contents",
   "toc_cell": false,
   "toc_position": {},
   "toc_section_display": true,
   "toc_window_display": false
  }
 },
 "nbformat": 4,
 "nbformat_minor": 5
}
